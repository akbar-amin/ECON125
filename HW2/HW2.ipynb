{
 "metadata": {
  "language_info": {
   "codemirror_mode": {
    "name": "ipython",
    "version": 3
   },
   "file_extension": ".py",
   "mimetype": "text/x-python",
   "name": "python",
   "nbconvert_exporter": "python",
   "pygments_lexer": "ipython3",
   "version": "3.7.9-final"
  },
  "orig_nbformat": 2,
  "kernelspec": {
   "name": "python3",
   "display_name": "Python 3",
   "language": "python"
  }
 },
 "nbformat": 4,
 "nbformat_minor": 2,
 "cells": [
  {
   "cell_type": "code",
   "execution_count": 51,
   "metadata": {},
   "outputs": [
    {
     "output_type": "execute_result",
     "data": {
      "text/plain": [
       "      AGE  BATHS  BEDROOMS  FIREPLACE  OWNER  POOL    PRICE  SQFT  \\\n",
       "0      18      1         1          1      1     1    66500   741   \n",
       "1      18      1         1          0      0     1    66000   741   \n",
       "2      18      1         1          1      1     0    68500   790   \n",
       "3      18      2         2          1      1     0   102000  2783   \n",
       "4      35      1         2          0      0     0    54000  1165   \n",
       "...   ...    ...       ...        ...    ...   ...      ...   ...   \n",
       "1075   25      3         5          1      1     0   122570  2853   \n",
       "1076   13      3         5          1      0     1   185000  4599   \n",
       "1077   13      3         5          1      0     1  1280000  7086   \n",
       "1078   25      2         5          0      1     0   123808  3148   \n",
       "1079   25      4         7          1      1     1   374000  6203   \n",
       "\n",
       "      TRADITIONAL  WATERFRONT  \n",
       "0               1           0  \n",
       "1               1           0  \n",
       "2               1           0  \n",
       "3               1           0  \n",
       "4               1           0  \n",
       "...           ...         ...  \n",
       "1075            0           0  \n",
       "1076            0           0  \n",
       "1077            0           1  \n",
       "1078            0           0  \n",
       "1079            0           0  \n",
       "\n",
       "[1080 rows x 10 columns]"
      ],
      "text/html": "<div>\n<style scoped>\n    .dataframe tbody tr th:only-of-type {\n        vertical-align: middle;\n    }\n\n    .dataframe tbody tr th {\n        vertical-align: top;\n    }\n\n    .dataframe thead th {\n        text-align: right;\n    }\n</style>\n<table border=\"1\" class=\"dataframe\">\n  <thead>\n    <tr style=\"text-align: right;\">\n      <th></th>\n      <th>AGE</th>\n      <th>BATHS</th>\n      <th>BEDROOMS</th>\n      <th>FIREPLACE</th>\n      <th>OWNER</th>\n      <th>POOL</th>\n      <th>PRICE</th>\n      <th>SQFT</th>\n      <th>TRADITIONAL</th>\n      <th>WATERFRONT</th>\n    </tr>\n  </thead>\n  <tbody>\n    <tr>\n      <th>0</th>\n      <td>18</td>\n      <td>1</td>\n      <td>1</td>\n      <td>1</td>\n      <td>1</td>\n      <td>1</td>\n      <td>66500</td>\n      <td>741</td>\n      <td>1</td>\n      <td>0</td>\n    </tr>\n    <tr>\n      <th>1</th>\n      <td>18</td>\n      <td>1</td>\n      <td>1</td>\n      <td>0</td>\n      <td>0</td>\n      <td>1</td>\n      <td>66000</td>\n      <td>741</td>\n      <td>1</td>\n      <td>0</td>\n    </tr>\n    <tr>\n      <th>2</th>\n      <td>18</td>\n      <td>1</td>\n      <td>1</td>\n      <td>1</td>\n      <td>1</td>\n      <td>0</td>\n      <td>68500</td>\n      <td>790</td>\n      <td>1</td>\n      <td>0</td>\n    </tr>\n    <tr>\n      <th>3</th>\n      <td>18</td>\n      <td>2</td>\n      <td>2</td>\n      <td>1</td>\n      <td>1</td>\n      <td>0</td>\n      <td>102000</td>\n      <td>2783</td>\n      <td>1</td>\n      <td>0</td>\n    </tr>\n    <tr>\n      <th>4</th>\n      <td>35</td>\n      <td>1</td>\n      <td>2</td>\n      <td>0</td>\n      <td>0</td>\n      <td>0</td>\n      <td>54000</td>\n      <td>1165</td>\n      <td>1</td>\n      <td>0</td>\n    </tr>\n    <tr>\n      <th>...</th>\n      <td>...</td>\n      <td>...</td>\n      <td>...</td>\n      <td>...</td>\n      <td>...</td>\n      <td>...</td>\n      <td>...</td>\n      <td>...</td>\n      <td>...</td>\n      <td>...</td>\n    </tr>\n    <tr>\n      <th>1075</th>\n      <td>25</td>\n      <td>3</td>\n      <td>5</td>\n      <td>1</td>\n      <td>1</td>\n      <td>0</td>\n      <td>122570</td>\n      <td>2853</td>\n      <td>0</td>\n      <td>0</td>\n    </tr>\n    <tr>\n      <th>1076</th>\n      <td>13</td>\n      <td>3</td>\n      <td>5</td>\n      <td>1</td>\n      <td>0</td>\n      <td>1</td>\n      <td>185000</td>\n      <td>4599</td>\n      <td>0</td>\n      <td>0</td>\n    </tr>\n    <tr>\n      <th>1077</th>\n      <td>13</td>\n      <td>3</td>\n      <td>5</td>\n      <td>1</td>\n      <td>0</td>\n      <td>1</td>\n      <td>1280000</td>\n      <td>7086</td>\n      <td>0</td>\n      <td>1</td>\n    </tr>\n    <tr>\n      <th>1078</th>\n      <td>25</td>\n      <td>2</td>\n      <td>5</td>\n      <td>0</td>\n      <td>1</td>\n      <td>0</td>\n      <td>123808</td>\n      <td>3148</td>\n      <td>0</td>\n      <td>0</td>\n    </tr>\n    <tr>\n      <th>1079</th>\n      <td>25</td>\n      <td>4</td>\n      <td>7</td>\n      <td>1</td>\n      <td>1</td>\n      <td>1</td>\n      <td>374000</td>\n      <td>6203</td>\n      <td>0</td>\n      <td>0</td>\n    </tr>\n  </tbody>\n</table>\n<p>1080 rows × 10 columns</p>\n</div>"
     },
     "metadata": {},
     "execution_count": 51
    }
   ],
   "source": [
    "import math\n",
    "import pandas as pd \n",
    "import numpy as np\n",
    "import statsmodels.api as sm\n",
    "from scipy import stats\n",
    "\n",
    "df = pd.read_csv(\"HW1data.csv\")\n",
    "df"
   ]
  },
  {
   "source": [
    "1a. Test that the expected price of a house of 2000 square feet is equal to, or less than, $120,000. What is the p-value of the test?"
   ],
   "cell_type": "markdown",
   "metadata": {}
  },
  {
   "source": [
    "$H_0: \\beta_1 + 2000 * \\beta_2 = 120,000 $\n",
    "\n",
    "$H_1: \\beta_1 + 2000 * \\beta_2 < 120,000 $"
   ],
   "cell_type": "markdown",
   "metadata": {}
  },
  {
   "cell_type": "code",
   "execution_count": 61,
   "metadata": {},
   "outputs": [
    {
     "output_type": "stream",
     "name": "stdout",
     "text": [
      "Fail to reject null hypothesis. We cannot conclude that the expected                 \nprice of a 2000 sqft house is <= $120,000.\n\nt-stat: -0.4006\np-value: 0.6363\n"
     ]
    }
   ],
   "source": [
    "# Same model from last HW\n",
    "dft = df.loc[df.TRADITIONAL == 1, [\"PRICE\", \"SQFT\"]]\n",
    "model = sm.OLS(endog = dft.PRICE, exog = sm.add_constant(dft.SQFT), weights = math.e).fit()\n",
    "\n",
    "B1 = model.params[\"const\"]\n",
    "B2 = model.params[\"SQFT\"]\n",
    "SE = model.params[\"std err\"]\n",
    "\n",
    "tstat = ((B1 + 2000 * B2) - 120000)/SE\n",
    "\n",
    "if tstat < -2.33:\n",
    "    print(\"Reject null hypothesis. We can conclude that the expected \\\n",
    "                \\nprice of a 2000 sqft house is <= $120,000\")\n",
    "else:\n",
    "    print(\"Fail to reject null hypothesis. We cannot conclude that the expected \\\n",
    "                \\nprice of a 2000 sqft house is <= $120,000.\")\n",
    "\n",
    "print(f\"\\nt-stat: {tstat:.4f}\")\n",
    "\n",
    "pvalue = 1 - stats.t.cdf(tstat, df = 2)\n",
    "print(f\"p-value: {pvalue:.4f}\")"
   ]
  },
  {
   "source": [
    "1b.\tConstruct a 95% interval estimate of the expected price of a house of 2000 square feet."
   ],
   "cell_type": "markdown",
   "metadata": {}
  },
  {
   "cell_type": "code",
   "execution_count": 59,
   "metadata": {},
   "outputs": [
    {
     "output_type": "execute_result",
     "data": {
      "text/plain": [
       "[114910.57794021294, 123362.09794021293]"
      ]
     },
     "metadata": {},
     "execution_count": 59
    }
   ],
   "source": [
    "t_alpha = 1.96 # for 95% \n",
    "lower = (B1 + 2000 * B2) + t_alpha * SE \n",
    "upper = (B1 + 2000 * B2) - t_alpha * SE \n",
    "\n",
    "[upper, lower]"
   ]
  },
  {
   "source": [
    "1c.\tConstruct a 95% prediction interval for the value of a house of 2000 square feet."
   ],
   "cell_type": "markdown",
   "metadata": {}
  },
  {
   "cell_type": "code",
   "execution_count": 102,
   "metadata": {},
   "outputs": [
    {
     "output_type": "execute_result",
     "data": {
      "text/plain": [
       "[23623.96994021267, 214648.70594021268]"
      ]
     },
     "metadata": {},
     "execution_count": 102
    }
   ],
   "source": [
    "SE_pred = math.sqrt((SE**2) + (79821.70**2))\n",
    "lower = (B1 + 2000 * B2) + t_alpha * SE_pred\n",
    "upper = (B1 + 2000 * B2) - t_alpha * SE_pred\n",
    "\n",
    "[upper, lower]"
   ]
  },
  {
   "source": [
    "2a. Textbook Problem 5.5\n",
    "\n",
    "All variables except ROOMS and ACCESS have a negative influence. ROOMS and ACCESS have a positive influence. "
   ],
   "cell_type": "markdown",
   "metadata": {}
  },
  {
   "source": [
    "2b. Textbook Problem 5.5"
   ],
   "cell_type": "markdown",
   "metadata": {}
  },
  {
   "cell_type": "code",
   "execution_count": 113,
   "metadata": {},
   "outputs": [
    {
     "output_type": "stream",
     "name": "stdout",
     "text": [
      "Crime:  [-0.25494, -0.11186000000000001]\nAccess:  [0.13059199999999999, 0.414008]\n"
     ]
    }
   ],
   "source": [
    "t_alpha = 1.96 \n",
    "\n",
    "crime = [-.1834 - t_alpha * .0365, -.1834 + t_alpha * .0365]\n",
    "access = [.2723 - t_alpha * .0723, .2723 + t_alpha * .0723]\n",
    "\n",
    "print(\"Crime: \", crime)\n",
    "print(\"Access: \", access)"
   ]
  },
  {
   "source": [
    "2c. Textbook Problem 5.5\n",
    "\n",
    "\n",
    "\n",
    "$\\beta_r = 7$\n",
    "\n",
    "$\\beta_r < 7$"
   ],
   "cell_type": "markdown",
   "metadata": {}
  },
  {
   "cell_type": "code",
   "execution_count": 115,
   "metadata": {},
   "outputs": [
    {
     "output_type": "stream",
     "name": "stdout",
     "text": [
      "Fail to reject null\nt-stat: -1.6017\n"
     ]
    }
   ],
   "source": [
    "tstat = (6.3715 - 7)/.3924 \n",
    "\n",
    "if tstat > .05:\n",
    "    print(\"Reject null\")\n",
    "else:\n",
    "    print(\"Fail to reject null\")\n",
    "\n",
    "print(f\"t-stat: {tstat:.4f}\")"
   ]
  },
  {
   "source": [
    "2d. Textbook Problem 5.5\n",
    "\n",
    "$\\beta_{ptr} = 1$\n",
    "\n",
    "$\\beta_{ptr} < -1$"
   ],
   "cell_type": "markdown",
   "metadata": {}
  },
  {
   "cell_type": "code",
   "execution_count": 116,
   "metadata": {},
   "outputs": [
    {
     "output_type": "stream",
     "name": "stdout",
     "text": [
      "Fail to reject null\nt-stat: -1.2683\n"
     ]
    }
   ],
   "source": [
    "tstat = (-1.1768 - (-1))/.1394\n",
    "\n",
    "if tstat > .05:\n",
    "    print(\"Reject null\")\n",
    "else:\n",
    "    print(\"Fail to reject null\")\n",
    "\n",
    "print(f\"t-stat: {tstat:.4f}\")"
   ]
  },
  {
   "source": [
    "Skipped #3"
   ],
   "cell_type": "markdown",
   "metadata": {}
  },
  {
   "cell_type": "code",
   "execution_count": null,
   "metadata": {},
   "outputs": [],
   "source": []
  }
 ]
}