{
 "metadata": {
  "language_info": {
   "codemirror_mode": {
    "name": "ipython",
    "version": 3
   },
   "file_extension": ".py",
   "mimetype": "text/x-python",
   "name": "python",
   "nbconvert_exporter": "python",
   "pygments_lexer": "ipython3",
   "version": "3.7.9-final"
  },
  "orig_nbformat": 2,
  "kernelspec": {
   "name": "python3",
   "display_name": "Python 3",
   "language": "python"
  }
 },
 "nbformat": 4,
 "nbformat_minor": 2,
 "cells": [
  {
   "cell_type": "code",
   "execution_count": 45,
   "metadata": {},
   "outputs": [],
   "source": [
    "from IPython.display import display, Markdown\n",
    "import numpy as np "
   ]
  },
  {
   "source": [
    "Consider the following distributed lag model relating the percentage growth in private investment (INVGWTH) to the federal funds rate of interest (FFRATE):\n",
    "\n",
    "$𝐼𝑁𝑉𝐺𝑊𝑇𝐻_{t} = 4 − 0.4 * 𝐹𝐹𝑅𝐴𝑇𝐸_{t} − 0.8 * 𝐹𝐹𝑅𝐴𝑇𝐸_{𝑡−1} − 0.6 * 𝐹𝐹𝑅𝐴𝑇𝐸_{𝑡−2} − 0.2 * 𝐹𝐹𝑅𝐴𝑇𝐸_{𝑡−3}$\n",
    "\n"
   ],
   "cell_type": "markdown",
   "metadata": {}
  },
  {
   "source": [
    "1. Suppose 𝐹𝐹𝑅𝐴𝑇𝐸 = 1% for 𝑡 = 1,2,3,4. Use the above equation to forecast 𝐼𝑁𝑉𝐺𝑊𝑇𝐻 for 𝑡 = 4."
   ],
   "cell_type": "markdown",
   "metadata": {}
  },
  {
   "cell_type": "code",
   "execution_count": 58,
   "metadata": {},
   "outputs": [],
   "source": [
    "def 𝐼𝑁𝑉𝐺𝑊𝑇𝐻(R1, R2, R3, R4, T):\n",
    "\n",
    "    growth = 4 - 0.4 * R1 - 0.8 * R2 - 0.6 * R3 - 0.2 * R4 \n",
    "\n",
    "    display(Markdown(\"$t = %d$\" % T))\n",
    "    display(Markdown(\"$𝐼𝑁𝑉𝐺𝑊𝑇𝐻_{%d} = 4 - 0.4 * 𝐹𝐹𝑅𝐴𝑇𝐸_{%d} - 0.8 * 𝐹𝐹𝑅𝐴𝑇𝐸_{%d} - 0.6 * 𝐹𝐹𝑅𝐴𝑇𝐸_{%d} - 0.2 * 𝐹𝐹𝑅𝐴𝑇𝐸_{%d}$\" % (T, T, T - 1, T - 2, T - 3)))\n",
    "    display(Markdown(\"$𝐼𝑁𝑉𝐺𝑊𝑇𝐻_{%d} = 4 - 0.4 * {%.3f} - 0.8 * {%.3f} - 0.6 * {%.3f} - 0.2 * {%.3f}$\" % (T, R1, R2, R3, R4)))\n",
    "    display(Markdown(\"$𝐼𝑁𝑉𝐺𝑊𝑇𝐻_{%d} = %.3f$\" % (T, growth)))\n",
    "    display(Markdown(\"<br/>\"))"
   ]
  },
  {
   "cell_type": "code",
   "execution_count": 59,
   "metadata": {},
   "outputs": [
    {
     "output_type": "display_data",
     "data": {
      "text/plain": "<IPython.core.display.Markdown object>",
      "text/markdown": "$t = 1$"
     },
     "metadata": {}
    },
    {
     "output_type": "display_data",
     "data": {
      "text/plain": "<IPython.core.display.Markdown object>",
      "text/markdown": "$𝐼𝑁𝑉𝐺𝑊𝑇𝐻_{1} = 4 - 0.4 * 𝐹𝐹𝑅𝐴𝑇𝐸_{1} - 0.8 * 𝐹𝐹𝑅𝐴𝑇𝐸_{0} - 0.6 * 𝐹𝐹𝑅𝐴𝑇𝐸_{-1} - 0.2 * 𝐹𝐹𝑅𝐴𝑇𝐸_{-2}$"
     },
     "metadata": {}
    },
    {
     "output_type": "display_data",
     "data": {
      "text/plain": "<IPython.core.display.Markdown object>",
      "text/markdown": "$𝐼𝑁𝑉𝐺𝑊𝑇𝐻_{1} = 4 - 0.4 * {0.010} - 0.8 * {0.010} - 0.6 * {0.010} - 0.2 * {0.010}$"
     },
     "metadata": {}
    },
    {
     "output_type": "display_data",
     "data": {
      "text/plain": "<IPython.core.display.Markdown object>",
      "text/markdown": "$𝐼𝑁𝑉𝐺𝑊𝑇𝐻_{1} = 3.980$"
     },
     "metadata": {}
    },
    {
     "output_type": "display_data",
     "data": {
      "text/plain": "<IPython.core.display.Markdown object>",
      "text/markdown": "<br/>"
     },
     "metadata": {}
    }
   ],
   "source": [
    "𝐼𝑁𝑉𝐺𝑊𝑇𝐻(.01, .01, .01, .01, 1)"
   ]
  },
  {
   "source": [
    "2. Suppose 𝐹𝐹𝑅𝐴𝑇𝐸 is raised to 1.5% in period 𝑡 = 5 and then returned to its original level of 1% for 𝑡 = 6, 7, 8, 9. Use the above equation to forecast 𝐼𝑁𝑉𝐺𝑊𝑇𝐻 for periods 𝑡 = 5, 6, 7, 8, 9. Relate the changes in your forecasts to the values of the coefficients. What are the delay multipliers?"
   ],
   "cell_type": "markdown",
   "metadata": {}
  },
  {
   "cell_type": "code",
   "execution_count": 60,
   "metadata": {},
   "outputs": [
    {
     "output_type": "display_data",
     "data": {
      "text/plain": "<IPython.core.display.Markdown object>",
      "text/markdown": "$t = 5$"
     },
     "metadata": {}
    },
    {
     "output_type": "display_data",
     "data": {
      "text/plain": "<IPython.core.display.Markdown object>",
      "text/markdown": "$𝐼𝑁𝑉𝐺𝑊𝑇𝐻_{5} = 4 - 0.4 * 𝐹𝐹𝑅𝐴𝑇𝐸_{5} - 0.8 * 𝐹𝐹𝑅𝐴𝑇𝐸_{4} - 0.6 * 𝐹𝐹𝑅𝐴𝑇𝐸_{3} - 0.2 * 𝐹𝐹𝑅𝐴𝑇𝐸_{2}$"
     },
     "metadata": {}
    },
    {
     "output_type": "display_data",
     "data": {
      "text/plain": "<IPython.core.display.Markdown object>",
      "text/markdown": "$𝐼𝑁𝑉𝐺𝑊𝑇𝐻_{5} = 4 - 0.4 * {0.015} - 0.8 * {0.010} - 0.6 * {0.010} - 0.2 * {0.010}$"
     },
     "metadata": {}
    },
    {
     "output_type": "display_data",
     "data": {
      "text/plain": "<IPython.core.display.Markdown object>",
      "text/markdown": "$𝐼𝑁𝑉𝐺𝑊𝑇𝐻_{5} = 3.978$"
     },
     "metadata": {}
    },
    {
     "output_type": "display_data",
     "data": {
      "text/plain": "<IPython.core.display.Markdown object>",
      "text/markdown": "<br/>"
     },
     "metadata": {}
    },
    {
     "output_type": "display_data",
     "data": {
      "text/plain": "<IPython.core.display.Markdown object>",
      "text/markdown": "$t = 6$"
     },
     "metadata": {}
    },
    {
     "output_type": "display_data",
     "data": {
      "text/plain": "<IPython.core.display.Markdown object>",
      "text/markdown": "$𝐼𝑁𝑉𝐺𝑊𝑇𝐻_{6} = 4 - 0.4 * 𝐹𝐹𝑅𝐴𝑇𝐸_{6} - 0.8 * 𝐹𝐹𝑅𝐴𝑇𝐸_{5} - 0.6 * 𝐹𝐹𝑅𝐴𝑇𝐸_{4} - 0.2 * 𝐹𝐹𝑅𝐴𝑇𝐸_{3}$"
     },
     "metadata": {}
    },
    {
     "output_type": "display_data",
     "data": {
      "text/plain": "<IPython.core.display.Markdown object>",
      "text/markdown": "$𝐼𝑁𝑉𝐺𝑊𝑇𝐻_{6} = 4 - 0.4 * {0.010} - 0.8 * {0.015} - 0.6 * {0.010} - 0.2 * {0.010}$"
     },
     "metadata": {}
    },
    {
     "output_type": "display_data",
     "data": {
      "text/plain": "<IPython.core.display.Markdown object>",
      "text/markdown": "$𝐼𝑁𝑉𝐺𝑊𝑇𝐻_{6} = 3.976$"
     },
     "metadata": {}
    },
    {
     "output_type": "display_data",
     "data": {
      "text/plain": "<IPython.core.display.Markdown object>",
      "text/markdown": "<br/>"
     },
     "metadata": {}
    },
    {
     "output_type": "display_data",
     "data": {
      "text/plain": "<IPython.core.display.Markdown object>",
      "text/markdown": "$t = 7$"
     },
     "metadata": {}
    },
    {
     "output_type": "display_data",
     "data": {
      "text/plain": "<IPython.core.display.Markdown object>",
      "text/markdown": "$𝐼𝑁𝑉𝐺𝑊𝑇𝐻_{7} = 4 - 0.4 * 𝐹𝐹𝑅𝐴𝑇𝐸_{7} - 0.8 * 𝐹𝐹𝑅𝐴𝑇𝐸_{6} - 0.6 * 𝐹𝐹𝑅𝐴𝑇𝐸_{5} - 0.2 * 𝐹𝐹𝑅𝐴𝑇𝐸_{4}$"
     },
     "metadata": {}
    },
    {
     "output_type": "display_data",
     "data": {
      "text/plain": "<IPython.core.display.Markdown object>",
      "text/markdown": "$𝐼𝑁𝑉𝐺𝑊𝑇𝐻_{7} = 4 - 0.4 * {0.010} - 0.8 * {0.010} - 0.6 * {0.015} - 0.2 * {0.010}$"
     },
     "metadata": {}
    },
    {
     "output_type": "display_data",
     "data": {
      "text/plain": "<IPython.core.display.Markdown object>",
      "text/markdown": "$𝐼𝑁𝑉𝐺𝑊𝑇𝐻_{7} = 3.977$"
     },
     "metadata": {}
    },
    {
     "output_type": "display_data",
     "data": {
      "text/plain": "<IPython.core.display.Markdown object>",
      "text/markdown": "<br/>"
     },
     "metadata": {}
    },
    {
     "output_type": "display_data",
     "data": {
      "text/plain": "<IPython.core.display.Markdown object>",
      "text/markdown": "$t = 8$"
     },
     "metadata": {}
    },
    {
     "output_type": "display_data",
     "data": {
      "text/plain": "<IPython.core.display.Markdown object>",
      "text/markdown": "$𝐼𝑁𝑉𝐺𝑊𝑇𝐻_{8} = 4 - 0.4 * 𝐹𝐹𝑅𝐴𝑇𝐸_{8} - 0.8 * 𝐹𝐹𝑅𝐴𝑇𝐸_{7} - 0.6 * 𝐹𝐹𝑅𝐴𝑇𝐸_{6} - 0.2 * 𝐹𝐹𝑅𝐴𝑇𝐸_{5}$"
     },
     "metadata": {}
    },
    {
     "output_type": "display_data",
     "data": {
      "text/plain": "<IPython.core.display.Markdown object>",
      "text/markdown": "$𝐼𝑁𝑉𝐺𝑊𝑇𝐻_{8} = 4 - 0.4 * {0.010} - 0.8 * {0.010} - 0.6 * {0.010} - 0.2 * {0.015}$"
     },
     "metadata": {}
    },
    {
     "output_type": "display_data",
     "data": {
      "text/plain": "<IPython.core.display.Markdown object>",
      "text/markdown": "$𝐼𝑁𝑉𝐺𝑊𝑇𝐻_{8} = 3.979$"
     },
     "metadata": {}
    },
    {
     "output_type": "display_data",
     "data": {
      "text/plain": "<IPython.core.display.Markdown object>",
      "text/markdown": "<br/>"
     },
     "metadata": {}
    },
    {
     "output_type": "display_data",
     "data": {
      "text/plain": "<IPython.core.display.Markdown object>",
      "text/markdown": "$t = 9$"
     },
     "metadata": {}
    },
    {
     "output_type": "display_data",
     "data": {
      "text/plain": "<IPython.core.display.Markdown object>",
      "text/markdown": "$𝐼𝑁𝑉𝐺𝑊𝑇𝐻_{9} = 4 - 0.4 * 𝐹𝐹𝑅𝐴𝑇𝐸_{9} - 0.8 * 𝐹𝐹𝑅𝐴𝑇𝐸_{8} - 0.6 * 𝐹𝐹𝑅𝐴𝑇𝐸_{7} - 0.2 * 𝐹𝐹𝑅𝐴𝑇𝐸_{6}$"
     },
     "metadata": {}
    },
    {
     "output_type": "display_data",
     "data": {
      "text/plain": "<IPython.core.display.Markdown object>",
      "text/markdown": "$𝐼𝑁𝑉𝐺𝑊𝑇𝐻_{9} = 4 - 0.4 * {0.010} - 0.8 * {0.010} - 0.6 * {0.010} - 0.2 * {0.010}$"
     },
     "metadata": {}
    },
    {
     "output_type": "display_data",
     "data": {
      "text/plain": "<IPython.core.display.Markdown object>",
      "text/markdown": "$𝐼𝑁𝑉𝐺𝑊𝑇𝐻_{9} = 3.980$"
     },
     "metadata": {}
    },
    {
     "output_type": "display_data",
     "data": {
      "text/plain": "<IPython.core.display.Markdown object>",
      "text/markdown": "<br/>"
     },
     "metadata": {}
    }
   ],
   "source": [
    "𝐼𝑁𝑉𝐺𝑊𝑇𝐻(.015, .01, .01, .01, 5)\n",
    "𝐼𝑁𝑉𝐺𝑊𝑇𝐻(.01, .015, .01, .01, 6)\n",
    "𝐼𝑁𝑉𝐺𝑊𝑇𝐻(.01, .01, .015, .01, 7)\n",
    "𝐼𝑁𝑉𝐺𝑊𝑇𝐻(.01, .01, .01, .015, 8)\n",
    "𝐼𝑁𝑉𝐺𝑊𝑇𝐻(.01, .01, .01, .01, 9)"
   ]
  },
  {
   "source": [
    "The coefficients are relatively the same from t = 5 to 9. The delay multiplier is the 𝐹𝐹𝑅𝐴𝑇𝐸, 1.5%"
   ],
   "cell_type": "markdown",
   "metadata": {}
  },
  {
   "source": [
    "3. Suppose 𝐹𝐹𝑅𝐴𝑇𝐸 is raised to 1.5% in period 𝑡 = 5, 6, 7, 8, 9. Use the above equation to forecast 𝐼𝑁𝑉𝐺𝑊𝑇𝐻 for periods 𝑡 = 5, 6, 7, 8, 9. Relate the changes in your forecasts to the values of the coefficients. What are the interim multipliers? What is the total multiplier?"
   ],
   "cell_type": "markdown",
   "metadata": {}
  },
  {
   "cell_type": "code",
   "execution_count": 65,
   "metadata": {},
   "outputs": [
    {
     "output_type": "display_data",
     "data": {
      "text/plain": "<IPython.core.display.Markdown object>",
      "text/markdown": "$t = 5$"
     },
     "metadata": {}
    },
    {
     "output_type": "display_data",
     "data": {
      "text/plain": "<IPython.core.display.Markdown object>",
      "text/markdown": "$𝐼𝑁𝑉𝐺𝑊𝑇𝐻_{5} = 4 - 0.4 * 𝐹𝐹𝑅𝐴𝑇𝐸_{5} - 0.8 * 𝐹𝐹𝑅𝐴𝑇𝐸_{4} - 0.6 * 𝐹𝐹𝑅𝐴𝑇𝐸_{3} - 0.2 * 𝐹𝐹𝑅𝐴𝑇𝐸_{2}$"
     },
     "metadata": {}
    },
    {
     "output_type": "display_data",
     "data": {
      "text/plain": "<IPython.core.display.Markdown object>",
      "text/markdown": "$𝐼𝑁𝑉𝐺𝑊𝑇𝐻_{5} = 4 - 0.4 * {0.015} - 0.8 * {0.010} - 0.6 * {0.010} - 0.2 * {0.010}$"
     },
     "metadata": {}
    },
    {
     "output_type": "display_data",
     "data": {
      "text/plain": "<IPython.core.display.Markdown object>",
      "text/markdown": "$𝐼𝑁𝑉𝐺𝑊𝑇𝐻_{5} = 3.978$"
     },
     "metadata": {}
    },
    {
     "output_type": "display_data",
     "data": {
      "text/plain": "<IPython.core.display.Markdown object>",
      "text/markdown": "<br/>"
     },
     "metadata": {}
    },
    {
     "output_type": "display_data",
     "data": {
      "text/plain": "<IPython.core.display.Markdown object>",
      "text/markdown": "$t = 6$"
     },
     "metadata": {}
    },
    {
     "output_type": "display_data",
     "data": {
      "text/plain": "<IPython.core.display.Markdown object>",
      "text/markdown": "$𝐼𝑁𝑉𝐺𝑊𝑇𝐻_{6} = 4 - 0.4 * 𝐹𝐹𝑅𝐴𝑇𝐸_{6} - 0.8 * 𝐹𝐹𝑅𝐴𝑇𝐸_{5} - 0.6 * 𝐹𝐹𝑅𝐴𝑇𝐸_{4} - 0.2 * 𝐹𝐹𝑅𝐴𝑇𝐸_{3}$"
     },
     "metadata": {}
    },
    {
     "output_type": "display_data",
     "data": {
      "text/plain": "<IPython.core.display.Markdown object>",
      "text/markdown": "$𝐼𝑁𝑉𝐺𝑊𝑇𝐻_{6} = 4 - 0.4 * {0.015} - 0.8 * {0.015} - 0.6 * {0.010} - 0.2 * {0.010}$"
     },
     "metadata": {}
    },
    {
     "output_type": "display_data",
     "data": {
      "text/plain": "<IPython.core.display.Markdown object>",
      "text/markdown": "$𝐼𝑁𝑉𝐺𝑊𝑇𝐻_{6} = 3.974$"
     },
     "metadata": {}
    },
    {
     "output_type": "display_data",
     "data": {
      "text/plain": "<IPython.core.display.Markdown object>",
      "text/markdown": "<br/>"
     },
     "metadata": {}
    },
    {
     "output_type": "display_data",
     "data": {
      "text/plain": "<IPython.core.display.Markdown object>",
      "text/markdown": "$t = 7$"
     },
     "metadata": {}
    },
    {
     "output_type": "display_data",
     "data": {
      "text/plain": "<IPython.core.display.Markdown object>",
      "text/markdown": "$𝐼𝑁𝑉𝐺𝑊𝑇𝐻_{7} = 4 - 0.4 * 𝐹𝐹𝑅𝐴𝑇𝐸_{7} - 0.8 * 𝐹𝐹𝑅𝐴𝑇𝐸_{6} - 0.6 * 𝐹𝐹𝑅𝐴𝑇𝐸_{5} - 0.2 * 𝐹𝐹𝑅𝐴𝑇𝐸_{4}$"
     },
     "metadata": {}
    },
    {
     "output_type": "display_data",
     "data": {
      "text/plain": "<IPython.core.display.Markdown object>",
      "text/markdown": "$𝐼𝑁𝑉𝐺𝑊𝑇𝐻_{7} = 4 - 0.4 * {0.015} - 0.8 * {0.015} - 0.6 * {0.015} - 0.2 * {0.010}$"
     },
     "metadata": {}
    },
    {
     "output_type": "display_data",
     "data": {
      "text/plain": "<IPython.core.display.Markdown object>",
      "text/markdown": "$𝐼𝑁𝑉𝐺𝑊𝑇𝐻_{7} = 3.971$"
     },
     "metadata": {}
    },
    {
     "output_type": "display_data",
     "data": {
      "text/plain": "<IPython.core.display.Markdown object>",
      "text/markdown": "<br/>"
     },
     "metadata": {}
    },
    {
     "output_type": "display_data",
     "data": {
      "text/plain": "<IPython.core.display.Markdown object>",
      "text/markdown": "$t = 8$"
     },
     "metadata": {}
    },
    {
     "output_type": "display_data",
     "data": {
      "text/plain": "<IPython.core.display.Markdown object>",
      "text/markdown": "$𝐼𝑁𝑉𝐺𝑊𝑇𝐻_{8} = 4 - 0.4 * 𝐹𝐹𝑅𝐴𝑇𝐸_{8} - 0.8 * 𝐹𝐹𝑅𝐴𝑇𝐸_{7} - 0.6 * 𝐹𝐹𝑅𝐴𝑇𝐸_{6} - 0.2 * 𝐹𝐹𝑅𝐴𝑇𝐸_{5}$"
     },
     "metadata": {}
    },
    {
     "output_type": "display_data",
     "data": {
      "text/plain": "<IPython.core.display.Markdown object>",
      "text/markdown": "$𝐼𝑁𝑉𝐺𝑊𝑇𝐻_{8} = 4 - 0.4 * {0.015} - 0.8 * {0.015} - 0.6 * {0.015} - 0.2 * {0.015}$"
     },
     "metadata": {}
    },
    {
     "output_type": "display_data",
     "data": {
      "text/plain": "<IPython.core.display.Markdown object>",
      "text/markdown": "$𝐼𝑁𝑉𝐺𝑊𝑇𝐻_{8} = 3.970$"
     },
     "metadata": {}
    },
    {
     "output_type": "display_data",
     "data": {
      "text/plain": "<IPython.core.display.Markdown object>",
      "text/markdown": "<br/>"
     },
     "metadata": {}
    },
    {
     "output_type": "display_data",
     "data": {
      "text/plain": "<IPython.core.display.Markdown object>",
      "text/markdown": "$t = 9$"
     },
     "metadata": {}
    },
    {
     "output_type": "display_data",
     "data": {
      "text/plain": "<IPython.core.display.Markdown object>",
      "text/markdown": "$𝐼𝑁𝑉𝐺𝑊𝑇𝐻_{9} = 4 - 0.4 * 𝐹𝐹𝑅𝐴𝑇𝐸_{9} - 0.8 * 𝐹𝐹𝑅𝐴𝑇𝐸_{8} - 0.6 * 𝐹𝐹𝑅𝐴𝑇𝐸_{7} - 0.2 * 𝐹𝐹𝑅𝐴𝑇𝐸_{6}$"
     },
     "metadata": {}
    },
    {
     "output_type": "display_data",
     "data": {
      "text/plain": "<IPython.core.display.Markdown object>",
      "text/markdown": "$𝐼𝑁𝑉𝐺𝑊𝑇𝐻_{9} = 4 - 0.4 * {0.015} - 0.8 * {0.015} - 0.6 * {0.015} - 0.2 * {0.015}$"
     },
     "metadata": {}
    },
    {
     "output_type": "display_data",
     "data": {
      "text/plain": "<IPython.core.display.Markdown object>",
      "text/markdown": "$𝐼𝑁𝑉𝐺𝑊𝑇𝐻_{9} = 3.970$"
     },
     "metadata": {}
    },
    {
     "output_type": "display_data",
     "data": {
      "text/plain": "<IPython.core.display.Markdown object>",
      "text/markdown": "<br/>"
     },
     "metadata": {}
    }
   ],
   "source": [
    "𝐼𝑁𝑉𝐺𝑊𝑇𝐻(.015, .01, .01, .01, 5)\n",
    "𝐼𝑁𝑉𝐺𝑊𝑇𝐻(.015, .015, .01, .01, 6)\n",
    "𝐼𝑁𝑉𝐺𝑊𝑇𝐻(.015, .015, .015, .01, 7)\n",
    "𝐼𝑁𝑉𝐺𝑊𝑇𝐻(.015, .015, .015, .015, 8)\n",
    "𝐼𝑁𝑉𝐺𝑊𝑇𝐻(.015, .015, .015, .015, 9)"
   ]
  },
  {
   "cell_type": "code",
   "execution_count": 68,
   "metadata": {},
   "outputs": [
    {
     "output_type": "stream",
     "name": "stdout",
     "text": [
      "Interm Multipliers: 1.20, 1.80, 2.00\nTotal Multiplier: 2.00\n"
     ]
    }
   ],
   "source": [
    "interm = (.4 + .8, .4 + .8 + .6, .4 + .8 + .6 + .2)\n",
    "print(\"Interm Multipliers: %.2f, %.2f, %.2f\" % interm)\n",
    "print(\"Total Multiplier: %.2f\" % interm[-1])"
   ]
  },
  {
   "cell_type": "code",
   "execution_count": null,
   "metadata": {},
   "outputs": [],
   "source": []
  }
 ]
}